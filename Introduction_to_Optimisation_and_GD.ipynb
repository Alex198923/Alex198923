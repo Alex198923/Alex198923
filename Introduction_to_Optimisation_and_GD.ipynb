{
  "nbformat": 4,
  "nbformat_minor": 0,
  "metadata": {
    "colab": {
      "name": "Introduction to Optimisation and GD.ipynb",
      "provenance": [],
      "authorship_tag": "ABX9TyNgxFEhhsST7S9zmNVSzkMg",
      "include_colab_link": true
    },
    "kernelspec": {
      "name": "python3",
      "display_name": "Python 3"
    },
    "language_info": {
      "name": "python"
    }
  },
  "cells": [
    {
      "cell_type": "markdown",
      "metadata": {
        "id": "view-in-github",
        "colab_type": "text"
      },
      "source": [
        "<a href=\"https://colab.research.google.com/github/Alex198923/Alex198923/blob/main/Introduction_to_Optimisation_and_GD.ipynb\" target=\"_parent\"><img src=\"https://colab.research.google.com/assets/colab-badge.svg\" alt=\"Open In Colab\"/></a>"
      ]
    },
    {
      "cell_type": "markdown",
      "source": [
        "31 \n",
        "# ML - Relationship in Data\n",
        "Three steps of ML\n",
        "\n",
        "\n",
        "Step 1 : Predict Coefficient\n",
        "\n",
        "Step 2 : Calculate the Errors and find best Coeffienet\n",
        "\n",
        "Step 3 : Learning \n",
        "\n",
        "Step 4 : Repeat"
      ],
      "metadata": {
        "id": "PhfjJR0Pwyvm"
      }
    },
    {
      "cell_type": "markdown",
      "source": [
        "# Introduction to Cost Functions\n",
        "  1. How do we calculate the Errors and find the best algorithm\n",
        "\n",
        "\n",
        "\n",
        "\n"
      ],
      "metadata": {
        "id": "PZJT7u0Jx3YW"
      }
    },
    {
      "cell_type": "markdown",
      "source": [
        "# 34 Latex Markdown and Numpy\n",
        "\n",
        "Notebook Import and Packages\n",
        "\n",
        "\n",
        "# $ f(x) = x^2 + x + 1 $ // Simple Cost function"
      ],
      "metadata": {
        "id": "I1-N3gAm5FuK"
      }
    },
    {
      "cell_type": "code",
      "source": [
        "import matplotlib.pyplot  as plt\n",
        "import numpy as np\n",
        "\n",
        "% matplotlib inline "
      ],
      "metadata": {
        "id": "FxU8mqPY5MpC"
      },
      "execution_count": 3,
      "outputs": []
    },
    {
      "cell_type": "code",
      "source": [
        "def f(x):\n",
        "    return x**2 + x + 1  "
      ],
      "metadata": {
        "id": "18lKdLbK7P8W"
      },
      "execution_count": 12,
      "outputs": []
    },
    {
      "cell_type": "code",
      "source": [
        "# Make data \n",
        "\n",
        "x_1 = np.linspace(start=-10,stop=10,num=100000)\n",
        "x_1"
      ],
      "metadata": {
        "colab": {
          "base_uri": "https://localhost:8080/"
        },
        "id": "1Hj2ezOK7VZc",
        "outputId": "44319834-15ea-42d2-df28-924a716986df"
      },
      "execution_count": 16,
      "outputs": [
        {
          "output_type": "execute_result",
          "data": {
            "text/plain": [
              "array([-10.    ,  -9.9998,  -9.9996, ...,   9.9996,   9.9998,  10.    ])"
            ]
          },
          "metadata": {},
          "execution_count": 16
        }
      ]
    },
    {
      "cell_type": "code",
      "source": [
        "plt.plot(x_1,f(x_1))\n",
        "plt.xlim(-10,10)"
      ],
      "metadata": {
        "colab": {
          "base_uri": "https://localhost:8080/",
          "height": 283
        },
        "id": "fmj8IAef81vE",
        "outputId": "576951e6-607b-4772-8ece-0b8425841e07"
      },
      "execution_count": 18,
      "outputs": [
        {
          "output_type": "execute_result",
          "data": {
            "text/plain": [
              "(-10.0, 10.0)"
            ]
          },
          "metadata": {},
          "execution_count": 18
        },
        {
          "output_type": "display_data",
          "data": {
            "text/plain": [
              "<Figure size 432x288 with 1 Axes>"
            ],
            "image/png": "[encoded data removed]"
          },
          "metadata": {
            "needs_background": "light"
          }
        }
      ]
    }
  ]
}